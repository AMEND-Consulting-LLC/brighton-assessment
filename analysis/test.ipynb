{
 "cells": [
  {
   "cell_type": "code",
   "execution_count": 1,
   "metadata": {},
   "outputs": [],
   "source": [
    "# import packages\n",
    "import pandas as pd\n",
    "import numpy as np\n",
    "import matplotlib\n",
    "import matplotlib.pyplot as plt\n",
    "import seaborn as sns\n",
    "from datetime import timedelta\n",
    "from datetime import datetime\n",
    "import datetime as dt"
   ]
  },
  {
   "cell_type": "code",
   "execution_count": 2,
   "metadata": {},
   "outputs": [],
   "source": [
    "# import data\n",
    "fp = \"C:/Users/NicholasBehrendt/Documents/Current Projects/Brighton/support-docs/data/\"\n",
    "file_str1 = \"past_orders_operations.csv\"\n",
    "file_str2 = \"past_orders_confirmations.csv\"\n",
    "file_name1 = fp+file_str1\n",
    "file_name2 = fp+file_str2\n",
    "\n",
    "operations = pd.read_csv(file_name1)\n",
    "confirm = pd.read_csv(file_name2)"
   ]
  },
  {
   "cell_type": "code",
   "execution_count": 3,
   "metadata": {},
   "outputs": [],
   "source": [
    "# clean data\n",
    "confirm = confirm.dropna(subset=['Work Ctr'])\n",
    "confirm['Work Ctr'] = confirm['Work Ctr'].astype(int)\n",
    "confirm['Work Ctr'] = confirm['Work Ctr'].astype(str)\n",
    "\n",
    "# filter last three months\n",
    "confirm = confirm[pd.to_datetime(confirm['Postg date']) >= datetime(2022, 8, 1)]"
   ]
  },
  {
   "cell_type": "code",
   "execution_count": 23,
   "metadata": {},
   "outputs": [
    {
     "data": {
      "text/html": [
       "<div>\n",
       "<style scoped>\n",
       "    .dataframe tbody tr th:only-of-type {\n",
       "        vertical-align: middle;\n",
       "    }\n",
       "\n",
       "    .dataframe tbody tr th {\n",
       "        vertical-align: top;\n",
       "    }\n",
       "\n",
       "    .dataframe thead th {\n",
       "        text-align: right;\n",
       "    }\n",
       "</style>\n",
       "<table border=\"1\" class=\"dataframe\">\n",
       "  <thead>\n",
       "    <tr style=\"text-align: right;\">\n",
       "      <th></th>\n",
       "      <th>Order</th>\n",
       "      <th>Activity</th>\n",
       "      <th>Confirm. text</th>\n",
       "      <th>Work Ctr</th>\n",
       "      <th>Name</th>\n",
       "      <th>Pers.No.</th>\n",
       "      <th>Entered</th>\n",
       "      <th>Reason</th>\n",
       "      <th>Counter</th>\n",
       "      <th>Confirm.</th>\n",
       "      <th>Yield</th>\n",
       "      <th>ConfirmedHours</th>\n",
       "      <th>Postg date</th>\n",
       "    </tr>\n",
       "  </thead>\n",
       "  <tbody>\n",
       "    <tr>\n",
       "      <th>14572</th>\n",
       "      <td>1063209</td>\n",
       "      <td>168</td>\n",
       "      <td>NaN</td>\n",
       "      <td>2008</td>\n",
       "      <td>Gerald H. Craig</td>\n",
       "      <td>107404</td>\n",
       "      <td>APAPPU</td>\n",
       "      <td>NaN</td>\n",
       "      <td>5</td>\n",
       "      <td>1348463</td>\n",
       "      <td>0</td>\n",
       "      <td>4.0</td>\n",
       "      <td>9/9/2022</td>\n",
       "    </tr>\n",
       "  </tbody>\n",
       "</table>\n",
       "</div>"
      ],
      "text/plain": [
       "         Order  Activity Confirm. text Work Ctr             Name  Pers.No.  \\\n",
       "14572  1063209       168           NaN     2008  Gerald H. Craig    107404   \n",
       "\n",
       "      Entered  Reason  Counter  Confirm.  Yield  ConfirmedHours Postg date  \n",
       "14572  APAPPU     NaN        5   1348463      0             4.0   9/9/2022  "
      ]
     },
     "execution_count": 23,
     "metadata": {},
     "output_type": "execute_result"
    }
   ],
   "source": [
    "test = confirm.copy()\n",
    "\n",
    "test['Work Ctr'] = np.where((test['Name'] == 'Nicholas A. Lierman') & (test['Work Ctr'] == '2012'), '2008', test['Work Ctr'])\n",
    "test['Work Ctr'] = np.where((test['Name'] == 'Gerald H. Craig') & (test['Work Ctr'] == '2012'), '2007', test['Work Ctr'])\n",
    "\n",
    "#test['Work Ctr'][test['Name'] == 'Nicholas A. Lierman'] = '2008'\n",
    "test[(test['Work Ctr'] == '2012') & (test['Name'] == 'Nicholas A. Lierman')]\n",
    "test[(test['Work Ctr'] == '2008') & (test['Name'] == 'Gerald H. Craig')]"
   ]
  },
  {
   "cell_type": "code",
   "execution_count": 11,
   "metadata": {},
   "outputs": [
    {
     "data": {
      "text/html": [
       "<div>\n",
       "<style scoped>\n",
       "    .dataframe tbody tr th:only-of-type {\n",
       "        vertical-align: middle;\n",
       "    }\n",
       "\n",
       "    .dataframe tbody tr th {\n",
       "        vertical-align: top;\n",
       "    }\n",
       "\n",
       "    .dataframe thead th {\n",
       "        text-align: right;\n",
       "    }\n",
       "</style>\n",
       "<table border=\"1\" class=\"dataframe\">\n",
       "  <thead>\n",
       "    <tr style=\"text-align: right;\">\n",
       "      <th></th>\n",
       "      <th>Work Ctr</th>\n",
       "      <th>Name</th>\n",
       "      <th>Order</th>\n",
       "      <th>Activity</th>\n",
       "      <th>Pers.No.</th>\n",
       "      <th>Reason</th>\n",
       "      <th>Counter</th>\n",
       "      <th>Confirm.</th>\n",
       "      <th>Yield</th>\n",
       "      <th>ConfirmedHours</th>\n",
       "    </tr>\n",
       "  </thead>\n",
       "  <tbody>\n",
       "    <tr>\n",
       "      <th>80</th>\n",
       "      <td>2012</td>\n",
       "      <td>Nicholas A. Lierman</td>\n",
       "      <td>45764516</td>\n",
       "      <td>7842</td>\n",
       "      <td>5606039</td>\n",
       "      <td>0.0</td>\n",
       "      <td>230</td>\n",
       "      <td>59698703</td>\n",
       "      <td>58</td>\n",
       "      <td>104.6</td>\n",
       "    </tr>\n",
       "  </tbody>\n",
       "</table>\n",
       "</div>"
      ],
      "text/plain": [
       "   Work Ctr                 Name     Order  Activity  Pers.No.  Reason  \\\n",
       "80     2012  Nicholas A. Lierman  45764516      7842   5606039     0.0   \n",
       "\n",
       "    Counter  Confirm.  Yield  ConfirmedHours  \n",
       "80      230  59698703     58           104.6  "
      ]
     },
     "execution_count": 11,
     "metadata": {},
     "output_type": "execute_result"
    }
   ],
   "source": [
    "confirm[(confirm['Work Ctr'] == '2012') & (confirm['Name'] == 'Gerald H. Craig')]\n",
    "check = confirm.groupby(by=['Work Ctr', 'Name'], as_index=False).sum('ConfirmedHours')\n",
    "check[(check['Work Ctr'] == '2012') & (check['Name'] == 'Gerald H. Craig')]\n",
    "check[(check['Work Ctr'] == '2012') & (check['Name'] == 'Nicholas A. Lierman')]"
   ]
  }
 ],
 "metadata": {
  "kernelspec": {
   "display_name": "Python 3.10.7 64-bit",
   "language": "python",
   "name": "python3"
  },
  "language_info": {
   "codemirror_mode": {
    "name": "ipython",
    "version": 3
   },
   "file_extension": ".py",
   "mimetype": "text/x-python",
   "name": "python",
   "nbconvert_exporter": "python",
   "pygments_lexer": "ipython3",
   "version": "3.10.7 (tags/v3.10.7:6cc6b13, Sep  5 2022, 14:08:36) [MSC v.1933 64 bit (AMD64)]"
  },
  "orig_nbformat": 4,
  "vscode": {
   "interpreter": {
    "hash": "328cfc180302a47877fbe8c94d92699138f133f8058499c912971383d6728646"
   }
  }
 },
 "nbformat": 4,
 "nbformat_minor": 2
}
